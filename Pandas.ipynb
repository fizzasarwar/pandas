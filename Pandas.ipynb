{
  "nbformat": 4,
  "nbformat_minor": 0,
  "metadata": {
    "colab": {
      "name": "Pandas.ipynb",
      "provenance": []
    },
    "kernelspec": {
      "name": "python3",
      "display_name": "Python 3"
    },
    "language_info": {
      "name": "python"
    }
  },
  "cells": [
    {
      "cell_type": "code",
      "metadata": {
        "id": "gCndnJVQbOBb"
      },
      "source": [
        "import pandas as pd\n",
        "import numpy as np"
      ],
      "execution_count": null,
      "outputs": []
    },
    {
      "cell_type": "code",
      "metadata": {
        "id": "Zu6S2WOHc3_D"
      },
      "source": [
        "pop = pd.Series([1,2,3,4,5,7,8,9])"
      ],
      "execution_count": null,
      "outputs": []
    },
    {
      "cell_type": "code",
      "metadata": {
        "colab": {
          "base_uri": "https://localhost:8080/"
        },
        "id": "7LeaE3RWdFUw",
        "outputId": "045a15a1-f031-4c1c-bb48-6e3b05bc2dd6"
      },
      "source": [
        "pop"
      ],
      "execution_count": null,
      "outputs": [
        {
          "output_type": "execute_result",
          "data": {
            "text/plain": [
              "0    1\n",
              "1    2\n",
              "2    3\n",
              "3    4\n",
              "4    5\n",
              "5    7\n",
              "6    8\n",
              "7    9\n",
              "dtype: int64"
            ]
          },
          "metadata": {},
          "execution_count": 3
        }
      ]
    },
    {
      "cell_type": "code",
      "metadata": {
        "id": "KeD0O2QDdOMQ"
      },
      "source": [
        "pop.name = \"G7 population in million\""
      ],
      "execution_count": null,
      "outputs": []
    },
    {
      "cell_type": "code",
      "metadata": {
        "colab": {
          "base_uri": "https://localhost:8080/"
        },
        "id": "v6xGM3jpdcAf",
        "outputId": "77edef29-4815-424b-ae40-eac57fa9396d"
      },
      "source": [
        "pop"
      ],
      "execution_count": null,
      "outputs": [
        {
          "output_type": "execute_result",
          "data": {
            "text/plain": [
              "0    1\n",
              "1    2\n",
              "2    3\n",
              "3    4\n",
              "4    5\n",
              "5    7\n",
              "6    8\n",
              "7    9\n",
              "Name: G7 population in million, dtype: int64"
            ]
          },
          "metadata": {},
          "execution_count": 5
        }
      ]
    },
    {
      "cell_type": "code",
      "metadata": {
        "colab": {
          "base_uri": "https://localhost:8080/"
        },
        "id": "XkU5odsfdp1U",
        "outputId": "1727855c-457f-43cc-d1af-c3eba71166df"
      },
      "source": [
        "pop.dtypes"
      ],
      "execution_count": null,
      "outputs": [
        {
          "output_type": "execute_result",
          "data": {
            "text/plain": [
              "dtype('int64')"
            ]
          },
          "metadata": {},
          "execution_count": 6
        }
      ]
    },
    {
      "cell_type": "code",
      "metadata": {
        "colab": {
          "base_uri": "https://localhost:8080/"
        },
        "id": "4RL3otBDdsRl",
        "outputId": "6e2a0269-580d-4a9f-8a23-a4d9f5d25711"
      },
      "source": [
        "pop.values"
      ],
      "execution_count": null,
      "outputs": [
        {
          "output_type": "execute_result",
          "data": {
            "text/plain": [
              "array([1, 2, 3, 4, 5, 7, 8, 9])"
            ]
          },
          "metadata": {},
          "execution_count": 7
        }
      ]
    },
    {
      "cell_type": "code",
      "metadata": {
        "colab": {
          "base_uri": "https://localhost:8080/"
        },
        "id": "gp3agWRjd1De",
        "outputId": "8b911313-8f50-4860-be41-c87e61ce5429"
      },
      "source": [
        "type(pop.values)"
      ],
      "execution_count": null,
      "outputs": [
        {
          "output_type": "execute_result",
          "data": {
            "text/plain": [
              "numpy.ndarray"
            ]
          },
          "metadata": {},
          "execution_count": 8
        }
      ]
    },
    {
      "cell_type": "code",
      "metadata": {
        "colab": {
          "base_uri": "https://localhost:8080/"
        },
        "id": "w6nBUh65d-fX",
        "outputId": "82ab01a1-e7aa-4cd7-875a-ed708b606aad"
      },
      "source": [
        "pop[3]"
      ],
      "execution_count": null,
      "outputs": [
        {
          "output_type": "execute_result",
          "data": {
            "text/plain": [
              "4"
            ]
          },
          "metadata": {},
          "execution_count": 9
        }
      ]
    },
    {
      "cell_type": "code",
      "metadata": {
        "colab": {
          "base_uri": "https://localhost:8080/"
        },
        "id": "OmqcBibIeHD7",
        "outputId": "10fbc8ae-337c-4cfc-c81d-8ffe794065c2"
      },
      "source": [
        "pop.index"
      ],
      "execution_count": null,
      "outputs": [
        {
          "output_type": "execute_result",
          "data": {
            "text/plain": [
              "RangeIndex(start=0, stop=8, step=1)"
            ]
          },
          "metadata": {},
          "execution_count": 10
        }
      ]
    },
    {
      "cell_type": "code",
      "metadata": {
        "id": "DTe9_mWkenJp"
      },
      "source": [
        "pop.index= [\n",
        "            'Canada',\n",
        "            'Australia',\n",
        "            'France',\n",
        "            'Germany',\n",
        "            'Italy',\n",
        "            'Japan',\n",
        "            'Uk',\n",
        "            'Us',\n",
        "]"
      ],
      "execution_count": null,
      "outputs": []
    },
    {
      "cell_type": "code",
      "metadata": {
        "colab": {
          "base_uri": "https://localhost:8080/"
        },
        "id": "HRKYf4lpfLgB",
        "outputId": "005c719c-cd69-4ec2-d2b6-6012bf4426b2"
      },
      "source": [
        "pop"
      ],
      "execution_count": null,
      "outputs": [
        {
          "output_type": "execute_result",
          "data": {
            "text/plain": [
              "Canada       1\n",
              "Australia    2\n",
              "France       3\n",
              "Germany      4\n",
              "Italy        5\n",
              "Japan        7\n",
              "Uk           8\n",
              "Us           9\n",
              "Name: G7 population in million, dtype: int64"
            ]
          },
          "metadata": {},
          "execution_count": 12
        }
      ]
    },
    {
      "cell_type": "code",
      "metadata": {
        "colab": {
          "base_uri": "https://localhost:8080/"
        },
        "id": "tPtLA6d7gDU0",
        "outputId": "a5e5cf01-9c47-449a-9e61-509c841681c0"
      },
      "source": [
        "pd.Series({\n",
        "     'Canada':12.34,\n",
        "            'Australia': 23.4,\n",
        "            'France':54.7,\n",
        "            'Germany': 78.8,\n",
        "            'Italy':45.7,\n",
        "            'Japan':27.8,\n",
        "            'Uk':56.7,\n",
        "            'Us':89.0,\n",
        "    \n",
        "})"
      ],
      "execution_count": null,
      "outputs": [
        {
          "output_type": "execute_result",
          "data": {
            "text/plain": [
              "Canada       12.34\n",
              "Australia    23.40\n",
              "France       54.70\n",
              "Germany      78.80\n",
              "Italy        45.70\n",
              "Japan        27.80\n",
              "Uk           56.70\n",
              "Us           89.00\n",
              "dtype: float64"
            ]
          },
          "metadata": {},
          "execution_count": 13
        }
      ]
    },
    {
      "cell_type": "code",
      "metadata": {
        "colab": {
          "base_uri": "https://localhost:8080/"
        },
        "id": "WM_JAMgwju2y",
        "outputId": "50efc839-42ef-47b2-9b7e-9787826058d1"
      },
      "source": [
        "pd.Series(pop, index=['France', 'Germany', 'Italy', 'Spain'\n",
        "                    ])"
      ],
      "execution_count": null,
      "outputs": [
        {
          "output_type": "execute_result",
          "data": {
            "text/plain": [
              "France     3.0\n",
              "Germany    4.0\n",
              "Italy      5.0\n",
              "Spain      NaN\n",
              "Name: G7 population in million, dtype: float64"
            ]
          },
          "metadata": {},
          "execution_count": 14
        }
      ]
    },
    {
      "cell_type": "code",
      "metadata": {
        "colab": {
          "base_uri": "https://localhost:8080/"
        },
        "id": "PwRzKEXRk-MX",
        "outputId": "edd56c03-81e7-48c8-8cf8-2e3fe7e0bc1b"
      },
      "source": [
        "pop['Canada']"
      ],
      "execution_count": null,
      "outputs": [
        {
          "output_type": "execute_result",
          "data": {
            "text/plain": [
              "1"
            ]
          },
          "metadata": {},
          "execution_count": 15
        }
      ]
    },
    {
      "cell_type": "code",
      "metadata": {
        "colab": {
          "base_uri": "https://localhost:8080/"
        },
        "id": "1mxJEaHqlUaK",
        "outputId": "811dc555-66b8-4f6e-d71a-58ee1e7b62c7"
      },
      "source": [
        "pop['Germany']"
      ],
      "execution_count": null,
      "outputs": [
        {
          "output_type": "execute_result",
          "data": {
            "text/plain": [
              "4"
            ]
          },
          "metadata": {},
          "execution_count": 16
        }
      ]
    },
    {
      "cell_type": "code",
      "metadata": {
        "colab": {
          "base_uri": "https://localhost:8080/"
        },
        "id": "DgI_EdWKlUjd",
        "outputId": "eefec3b2-e636-41cf-c2a3-5f5505392650"
      },
      "source": [
        "pop"
      ],
      "execution_count": null,
      "outputs": [
        {
          "output_type": "execute_result",
          "data": {
            "text/plain": [
              "Canada       1\n",
              "Australia    2\n",
              "France       3\n",
              "Germany      4\n",
              "Italy        5\n",
              "Japan        7\n",
              "Uk           8\n",
              "Us           9\n",
              "Name: G7 population in million, dtype: int64"
            ]
          },
          "metadata": {},
          "execution_count": 17
        }
      ]
    },
    {
      "cell_type": "code",
      "metadata": {
        "colab": {
          "base_uri": "https://localhost:8080/"
        },
        "id": "1bFP8Vvjlwk6",
        "outputId": "42f6632c-484d-4d98-ad42-df601d84db77"
      },
      "source": [
        "pop.iloc[0]"
      ],
      "execution_count": null,
      "outputs": [
        {
          "output_type": "execute_result",
          "data": {
            "text/plain": [
              "1"
            ]
          },
          "metadata": {},
          "execution_count": 18
        }
      ]
    },
    {
      "cell_type": "code",
      "metadata": {
        "colab": {
          "base_uri": "https://localhost:8080/"
        },
        "id": "3o6W3QdnmGAw",
        "outputId": "33db017f-c595-42b5-b830-0a6bc709be5c"
      },
      "source": [
        "pop.iloc[-1]"
      ],
      "execution_count": null,
      "outputs": [
        {
          "output_type": "execute_result",
          "data": {
            "text/plain": [
              "9"
            ]
          },
          "metadata": {},
          "execution_count": 19
        }
      ]
    },
    {
      "cell_type": "code",
      "metadata": {
        "colab": {
          "base_uri": "https://localhost:8080/"
        },
        "id": "ccYPT8TImMav",
        "outputId": "00fb9a69-3937-468a-e46c-f506439a0f8a"
      },
      "source": [
        "pop[['Italy', 'France']]"
      ],
      "execution_count": null,
      "outputs": [
        {
          "output_type": "execute_result",
          "data": {
            "text/plain": [
              "Italy     5\n",
              "France    3\n",
              "Name: G7 population in million, dtype: int64"
            ]
          },
          "metadata": {},
          "execution_count": 20
        }
      ]
    },
    {
      "cell_type": "code",
      "metadata": {
        "colab": {
          "base_uri": "https://localhost:8080/"
        },
        "id": "xfBRPEuvmp-e",
        "outputId": "b2e0e3d1-30bc-4308-83c2-6d5439807e74"
      },
      "source": [
        "pop['Canada':'Italy']"
      ],
      "execution_count": null,
      "outputs": [
        {
          "output_type": "execute_result",
          "data": {
            "text/plain": [
              "Canada       1\n",
              "Australia    2\n",
              "France       3\n",
              "Germany      4\n",
              "Italy        5\n",
              "Name: G7 population in million, dtype: int64"
            ]
          },
          "metadata": {},
          "execution_count": 21
        }
      ]
    },
    {
      "cell_type": "code",
      "metadata": {
        "colab": {
          "base_uri": "https://localhost:8080/"
        },
        "id": "6AT5IgDknS7N",
        "outputId": "71645173-4822-4c7d-ae00-19bb67c11d02"
      },
      "source": [
        "pop"
      ],
      "execution_count": null,
      "outputs": [
        {
          "output_type": "execute_result",
          "data": {
            "text/plain": [
              "Canada       1\n",
              "Australia    2\n",
              "France       3\n",
              "Germany      4\n",
              "Italy        5\n",
              "Japan        7\n",
              "Uk           8\n",
              "Us           9\n",
              "Name: G7 population in million, dtype: int64"
            ]
          },
          "metadata": {},
          "execution_count": 22
        }
      ]
    },
    {
      "cell_type": "code",
      "metadata": {
        "colab": {
          "base_uri": "https://localhost:8080/"
        },
        "id": "bRpEMhctnUqw",
        "outputId": "6b48d731-63b2-42ad-a070-58c4b94d1f1d"
      },
      "source": [
        "pop > 70"
      ],
      "execution_count": null,
      "outputs": [
        {
          "output_type": "execute_result",
          "data": {
            "text/plain": [
              "Canada       False\n",
              "Australia    False\n",
              "France       False\n",
              "Germany      False\n",
              "Italy        False\n",
              "Japan        False\n",
              "Uk           False\n",
              "Us           False\n",
              "Name: G7 population in million, dtype: bool"
            ]
          },
          "metadata": {},
          "execution_count": 23
        }
      ]
    },
    {
      "cell_type": "code",
      "metadata": {
        "colab": {
          "base_uri": "https://localhost:8080/"
        },
        "id": "W7SgHh6endSn",
        "outputId": "1cb8b0d3-ceba-49ea-a621-9a7ef5b89198"
      },
      "source": [
        "pop[pop>4]"
      ],
      "execution_count": null,
      "outputs": [
        {
          "output_type": "execute_result",
          "data": {
            "text/plain": [
              "Italy    5\n",
              "Japan    7\n",
              "Uk       8\n",
              "Us       9\n",
              "Name: G7 population in million, dtype: int64"
            ]
          },
          "metadata": {},
          "execution_count": 24
        }
      ]
    },
    {
      "cell_type": "code",
      "metadata": {
        "colab": {
          "base_uri": "https://localhost:8080/"
        },
        "id": "bKZM8jh5niyU",
        "outputId": "015a5f8e-f450-46dd-a79f-07475dc42cd3"
      },
      "source": [
        "pop.mean()"
      ],
      "execution_count": null,
      "outputs": [
        {
          "output_type": "execute_result",
          "data": {
            "text/plain": [
              "4.875"
            ]
          },
          "metadata": {},
          "execution_count": 25
        }
      ]
    },
    {
      "cell_type": "code",
      "metadata": {
        "colab": {
          "base_uri": "https://localhost:8080/"
        },
        "id": "j6s1ksmEISL2",
        "outputId": "f02b1d6d-636c-43cd-8cfb-d15e9c1195bd"
      },
      "source": [
        "pop[pop > pop.mean()]"
      ],
      "execution_count": null,
      "outputs": [
        {
          "output_type": "execute_result",
          "data": {
            "text/plain": [
              "Italy    5\n",
              "Japan    7\n",
              "Uk       8\n",
              "Us       9\n",
              "Name: G7 population in million, dtype: int64"
            ]
          },
          "metadata": {},
          "execution_count": 26
        }
      ]
    },
    {
      "cell_type": "markdown",
      "metadata": {
        "id": "2W054-2CIyz0"
      },
      "source": [
        "# **Operation And Method**"
      ]
    },
    {
      "cell_type": "code",
      "metadata": {
        "colab": {
          "base_uri": "https://localhost:8080/"
        },
        "id": "SR8C7sivI2jD",
        "outputId": "3116390d-990e-4bef-c355-969524f89a66"
      },
      "source": [
        "pop * 1000"
      ],
      "execution_count": null,
      "outputs": [
        {
          "output_type": "execute_result",
          "data": {
            "text/plain": [
              "Canada       1000\n",
              "Australia    2000\n",
              "France       3000\n",
              "Germany      4000\n",
              "Italy        5000\n",
              "Japan        7000\n",
              "Uk           8000\n",
              "Us           9000\n",
              "Name: G7 population in million, dtype: int64"
            ]
          },
          "metadata": {},
          "execution_count": 27
        }
      ]
    },
    {
      "cell_type": "code",
      "metadata": {
        "colab": {
          "base_uri": "https://localhost:8080/"
        },
        "id": "hnCankPHKm4G",
        "outputId": "b5b0da1f-cb74-4f85-8a34-495e4c2efa65"
      },
      "source": [
        "np.log(pop)"
      ],
      "execution_count": null,
      "outputs": [
        {
          "output_type": "execute_result",
          "data": {
            "text/plain": [
              "Canada       0.000000\n",
              "Australia    0.693147\n",
              "France       1.098612\n",
              "Germany      1.386294\n",
              "Italy        1.609438\n",
              "Japan        1.945910\n",
              "Uk           2.079442\n",
              "Us           2.197225\n",
              "Name: G7 population in million, dtype: float64"
            ]
          },
          "metadata": {},
          "execution_count": 28
        }
      ]
    },
    {
      "cell_type": "code",
      "metadata": {
        "colab": {
          "base_uri": "https://localhost:8080/"
        },
        "id": "w07P1PacK-SS",
        "outputId": "66a5a0a5-990b-411b-ff71-fdbb94a5b995"
      },
      "source": [
        "pop[(pop > 3) | (pop < 4)]"
      ],
      "execution_count": null,
      "outputs": [
        {
          "output_type": "execute_result",
          "data": {
            "text/plain": [
              "Canada       1\n",
              "Australia    2\n",
              "France       3\n",
              "Germany      4\n",
              "Italy        5\n",
              "Japan        7\n",
              "Uk           8\n",
              "Us           9\n",
              "Name: G7 population in million, dtype: int64"
            ]
          },
          "metadata": {},
          "execution_count": 29
        }
      ]
    },
    {
      "cell_type": "code",
      "metadata": {
        "colab": {
          "base_uri": "https://localhost:8080/"
        },
        "id": "r1GcovzzLaK0",
        "outputId": "b45f1356-d6c7-481e-d549-2870339b8c83"
      },
      "source": [
        "pop[(pop > 3) & (pop < 5)]"
      ],
      "execution_count": null,
      "outputs": [
        {
          "output_type": "execute_result",
          "data": {
            "text/plain": [
              "Germany    4\n",
              "Name: G7 population in million, dtype: int64"
            ]
          },
          "metadata": {},
          "execution_count": 30
        }
      ]
    },
    {
      "cell_type": "markdown",
      "metadata": {
        "id": "HHjB9Oy7LxpC"
      },
      "source": [
        "# **Modifying Series**"
      ]
    },
    {
      "cell_type": "code",
      "metadata": {
        "id": "JUa83dfEL1kt"
      },
      "source": [
        "pop['Canada'] = 40.5"
      ],
      "execution_count": null,
      "outputs": []
    },
    {
      "cell_type": "code",
      "metadata": {
        "id": "Tbh1FfaGMBC5"
      },
      "source": [
        "pop.iloc[-1] = 90.3"
      ],
      "execution_count": null,
      "outputs": []
    },
    {
      "cell_type": "code",
      "metadata": {
        "colab": {
          "base_uri": "https://localhost:8080/"
        },
        "id": "wkXWLOYiMHU0",
        "outputId": "559bfe69-a828-4bdc-ffdc-96c7ea7e5dcf"
      },
      "source": [
        "pop"
      ],
      "execution_count": null,
      "outputs": [
        {
          "output_type": "execute_result",
          "data": {
            "text/plain": [
              "Canada       40.0\n",
              "Australia     2.0\n",
              "France        3.0\n",
              "Germany       4.0\n",
              "Italy         5.0\n",
              "Japan         7.0\n",
              "Uk            8.0\n",
              "Us           90.3\n",
              "Name: G7 population in million, dtype: float64"
            ]
          },
          "metadata": {},
          "execution_count": 33
        }
      ]
    },
    {
      "cell_type": "code",
      "metadata": {
        "id": "6E1KrLCiNeLB"
      },
      "source": [
        "df = pd.DataFrame({\n",
        "    'Population':[35,45,12.0,34.33,78,87.77],\n",
        "    'GDP':[\n",
        "           1234,\n",
        "           3457,\n",
        "           89801,\n",
        "           2345,\n",
        "           5879,\n",
        "           12345\n",
        "    ],\n",
        "    'Surface Area':[\n",
        "                    12345,7890,\n",
        "                    91234, 57890,\n",
        "                    12345,78901\n",
        "    ],\n",
        "    'HDI': [\n",
        "            0.123, 0.345, 0.789, 0.124,0.345,0.432\n",
        "    ],\n",
        "    'Continent':['Asia', 'Europe', 'Africa', 'America', 'Asia', 'Australia']\n",
        "}, columns=['Population', 'GDP', 'Surface Area', 'HDI', 'Continent']\n",
        ")"
      ],
      "execution_count": null,
      "outputs": []
    },
    {
      "cell_type": "code",
      "metadata": {
        "colab": {
          "base_uri": "https://localhost:8080/",
          "height": 230
        },
        "id": "U3hyAT_ZefoO",
        "outputId": "49501e21-7038-4ae4-f029-27085dd53d1a"
      },
      "source": [
        "df"
      ],
      "execution_count": null,
      "outputs": [
        {
          "output_type": "execute_result",
          "data": {
            "text/html": [
              "<div>\n",
              "<style scoped>\n",
              "    .dataframe tbody tr th:only-of-type {\n",
              "        vertical-align: middle;\n",
              "    }\n",
              "\n",
              "    .dataframe tbody tr th {\n",
              "        vertical-align: top;\n",
              "    }\n",
              "\n",
              "    .dataframe thead th {\n",
              "        text-align: right;\n",
              "    }\n",
              "</style>\n",
              "<table border=\"1\" class=\"dataframe\">\n",
              "  <thead>\n",
              "    <tr style=\"text-align: right;\">\n",
              "      <th></th>\n",
              "      <th>Population</th>\n",
              "      <th>GDP</th>\n",
              "      <th>Surface Area</th>\n",
              "      <th>HDI</th>\n",
              "      <th>Continent</th>\n",
              "    </tr>\n",
              "  </thead>\n",
              "  <tbody>\n",
              "    <tr>\n",
              "      <th>0</th>\n",
              "      <td>35.00</td>\n",
              "      <td>1234</td>\n",
              "      <td>12345</td>\n",
              "      <td>0.123</td>\n",
              "      <td>Asia</td>\n",
              "    </tr>\n",
              "    <tr>\n",
              "      <th>1</th>\n",
              "      <td>45.00</td>\n",
              "      <td>3457</td>\n",
              "      <td>7890</td>\n",
              "      <td>0.345</td>\n",
              "      <td>Europe</td>\n",
              "    </tr>\n",
              "    <tr>\n",
              "      <th>2</th>\n",
              "      <td>12.00</td>\n",
              "      <td>89801</td>\n",
              "      <td>91234</td>\n",
              "      <td>0.789</td>\n",
              "      <td>Africa</td>\n",
              "    </tr>\n",
              "    <tr>\n",
              "      <th>3</th>\n",
              "      <td>34.33</td>\n",
              "      <td>2345</td>\n",
              "      <td>57890</td>\n",
              "      <td>0.124</td>\n",
              "      <td>America</td>\n",
              "    </tr>\n",
              "    <tr>\n",
              "      <th>4</th>\n",
              "      <td>78.00</td>\n",
              "      <td>5879</td>\n",
              "      <td>12345</td>\n",
              "      <td>0.345</td>\n",
              "      <td>Asia</td>\n",
              "    </tr>\n",
              "    <tr>\n",
              "      <th>5</th>\n",
              "      <td>87.77</td>\n",
              "      <td>12345</td>\n",
              "      <td>78901</td>\n",
              "      <td>0.432</td>\n",
              "      <td>Australia</td>\n",
              "    </tr>\n",
              "  </tbody>\n",
              "</table>\n",
              "</div>"
            ],
            "text/plain": [
              "   Population    GDP  Surface Area    HDI  Continent\n",
              "0       35.00   1234         12345  0.123       Asia\n",
              "1       45.00   3457          7890  0.345     Europe\n",
              "2       12.00  89801         91234  0.789     Africa\n",
              "3       34.33   2345         57890  0.124    America\n",
              "4       78.00   5879         12345  0.345       Asia\n",
              "5       87.77  12345         78901  0.432  Australia"
            ]
          },
          "metadata": {},
          "execution_count": 35
        }
      ]
    },
    {
      "cell_type": "code",
      "metadata": {
        "id": "B6EtYVmaf20O"
      },
      "source": [
        "df.index = ['Canada',\n",
        "            'Germany',\n",
        "            'Italy',\n",
        "            'Japan',\n",
        "            'China',\n",
        "            'UK']"
      ],
      "execution_count": null,
      "outputs": []
    },
    {
      "cell_type": "code",
      "metadata": {
        "colab": {
          "base_uri": "https://localhost:8080/",
          "height": 230
        },
        "id": "LxR0HLy9gT6D",
        "outputId": "90daf267-ddf4-40e8-960a-fd67411f7a28"
      },
      "source": [
        "df"
      ],
      "execution_count": null,
      "outputs": [
        {
          "output_type": "execute_result",
          "data": {
            "text/html": [
              "<div>\n",
              "<style scoped>\n",
              "    .dataframe tbody tr th:only-of-type {\n",
              "        vertical-align: middle;\n",
              "    }\n",
              "\n",
              "    .dataframe tbody tr th {\n",
              "        vertical-align: top;\n",
              "    }\n",
              "\n",
              "    .dataframe thead th {\n",
              "        text-align: right;\n",
              "    }\n",
              "</style>\n",
              "<table border=\"1\" class=\"dataframe\">\n",
              "  <thead>\n",
              "    <tr style=\"text-align: right;\">\n",
              "      <th></th>\n",
              "      <th>Population</th>\n",
              "      <th>GDP</th>\n",
              "      <th>Surface Area</th>\n",
              "      <th>HDI</th>\n",
              "      <th>Continent</th>\n",
              "    </tr>\n",
              "  </thead>\n",
              "  <tbody>\n",
              "    <tr>\n",
              "      <th>Canada</th>\n",
              "      <td>35.00</td>\n",
              "      <td>1234</td>\n",
              "      <td>12345</td>\n",
              "      <td>0.123</td>\n",
              "      <td>Asia</td>\n",
              "    </tr>\n",
              "    <tr>\n",
              "      <th>Germany</th>\n",
              "      <td>45.00</td>\n",
              "      <td>3457</td>\n",
              "      <td>7890</td>\n",
              "      <td>0.345</td>\n",
              "      <td>Europe</td>\n",
              "    </tr>\n",
              "    <tr>\n",
              "      <th>Italy</th>\n",
              "      <td>12.00</td>\n",
              "      <td>89801</td>\n",
              "      <td>91234</td>\n",
              "      <td>0.789</td>\n",
              "      <td>Africa</td>\n",
              "    </tr>\n",
              "    <tr>\n",
              "      <th>Japan</th>\n",
              "      <td>34.33</td>\n",
              "      <td>2345</td>\n",
              "      <td>57890</td>\n",
              "      <td>0.124</td>\n",
              "      <td>America</td>\n",
              "    </tr>\n",
              "    <tr>\n",
              "      <th>China</th>\n",
              "      <td>78.00</td>\n",
              "      <td>5879</td>\n",
              "      <td>12345</td>\n",
              "      <td>0.345</td>\n",
              "      <td>Asia</td>\n",
              "    </tr>\n",
              "    <tr>\n",
              "      <th>UK</th>\n",
              "      <td>87.77</td>\n",
              "      <td>12345</td>\n",
              "      <td>78901</td>\n",
              "      <td>0.432</td>\n",
              "      <td>Australia</td>\n",
              "    </tr>\n",
              "  </tbody>\n",
              "</table>\n",
              "</div>"
            ],
            "text/plain": [
              "         Population    GDP  Surface Area    HDI  Continent\n",
              "Canada        35.00   1234         12345  0.123       Asia\n",
              "Germany       45.00   3457          7890  0.345     Europe\n",
              "Italy         12.00  89801         91234  0.789     Africa\n",
              "Japan         34.33   2345         57890  0.124    America\n",
              "China         78.00   5879         12345  0.345       Asia\n",
              "UK            87.77  12345         78901  0.432  Australia"
            ]
          },
          "metadata": {},
          "execution_count": 37
        }
      ]
    },
    {
      "cell_type": "code",
      "metadata": {
        "colab": {
          "base_uri": "https://localhost:8080/"
        },
        "id": "Q6ehCpuGgbpL",
        "outputId": "8717bcc8-1231-4e74-b721-09d42c2b99cb"
      },
      "source": [
        "df.columns"
      ],
      "execution_count": null,
      "outputs": [
        {
          "output_type": "execute_result",
          "data": {
            "text/plain": [
              "Index(['Population', 'GDP', 'Surface Area', 'HDI', 'Continent'], dtype='object')"
            ]
          },
          "metadata": {},
          "execution_count": 38
        }
      ]
    },
    {
      "cell_type": "code",
      "metadata": {
        "colab": {
          "base_uri": "https://localhost:8080/"
        },
        "id": "mCsRWq3HgmEn",
        "outputId": "dd071b04-3c48-499b-dc22-ceb4c8fb54b5"
      },
      "source": [
        "df.index"
      ],
      "execution_count": null,
      "outputs": [
        {
          "output_type": "execute_result",
          "data": {
            "text/plain": [
              "Index(['Canada', 'Germany', 'Italy', 'Japan', 'China', 'UK'], dtype='object')"
            ]
          },
          "metadata": {},
          "execution_count": 39
        }
      ]
    },
    {
      "cell_type": "code",
      "metadata": {
        "colab": {
          "base_uri": "https://localhost:8080/"
        },
        "id": "PI4jLb-kgqOv",
        "outputId": "a17b68c4-e5fa-4a2f-f813-48e927d7494e"
      },
      "source": [
        "df.info()"
      ],
      "execution_count": null,
      "outputs": [
        {
          "output_type": "stream",
          "name": "stdout",
          "text": [
            "<class 'pandas.core.frame.DataFrame'>\n",
            "Index: 6 entries, Canada to UK\n",
            "Data columns (total 5 columns):\n",
            " #   Column        Non-Null Count  Dtype  \n",
            "---  ------        --------------  -----  \n",
            " 0   Population    6 non-null      float64\n",
            " 1   GDP           6 non-null      int64  \n",
            " 2   Surface Area  6 non-null      int64  \n",
            " 3   HDI           6 non-null      float64\n",
            " 4   Continent     6 non-null      object \n",
            "dtypes: float64(2), int64(2), object(1)\n",
            "memory usage: 288.0+ bytes\n"
          ]
        }
      ]
    },
    {
      "cell_type": "code",
      "metadata": {
        "colab": {
          "base_uri": "https://localhost:8080/"
        },
        "id": "88f4WZsmgslR",
        "outputId": "a616b8dd-1403-4650-a2e3-bd5946c9045e"
      },
      "source": [
        "df.size"
      ],
      "execution_count": null,
      "outputs": [
        {
          "output_type": "execute_result",
          "data": {
            "text/plain": [
              "30"
            ]
          },
          "metadata": {},
          "execution_count": 41
        }
      ]
    },
    {
      "cell_type": "code",
      "metadata": {
        "colab": {
          "base_uri": "https://localhost:8080/"
        },
        "id": "ruC64bG4hTNm",
        "outputId": "883d88e3-bf61-46d8-9f11-53e41e8a69fa"
      },
      "source": [
        "df.shape"
      ],
      "execution_count": null,
      "outputs": [
        {
          "output_type": "execute_result",
          "data": {
            "text/plain": [
              "(6, 5)"
            ]
          },
          "metadata": {},
          "execution_count": 42
        }
      ]
    },
    {
      "cell_type": "code",
      "metadata": {
        "colab": {
          "base_uri": "https://localhost:8080/",
          "height": 290
        },
        "id": "FxO1qlczhcOK",
        "outputId": "efabacc6-17e0-4401-beb3-dacd0ac5e2d3"
      },
      "source": [
        "df.describe()"
      ],
      "execution_count": null,
      "outputs": [
        {
          "output_type": "execute_result",
          "data": {
            "text/html": [
              "<div>\n",
              "<style scoped>\n",
              "    .dataframe tbody tr th:only-of-type {\n",
              "        vertical-align: middle;\n",
              "    }\n",
              "\n",
              "    .dataframe tbody tr th {\n",
              "        vertical-align: top;\n",
              "    }\n",
              "\n",
              "    .dataframe thead th {\n",
              "        text-align: right;\n",
              "    }\n",
              "</style>\n",
              "<table border=\"1\" class=\"dataframe\">\n",
              "  <thead>\n",
              "    <tr style=\"text-align: right;\">\n",
              "      <th></th>\n",
              "      <th>Population</th>\n",
              "      <th>GDP</th>\n",
              "      <th>Surface Area</th>\n",
              "      <th>HDI</th>\n",
              "    </tr>\n",
              "  </thead>\n",
              "  <tbody>\n",
              "    <tr>\n",
              "      <th>count</th>\n",
              "      <td>6.000000</td>\n",
              "      <td>6.000000</td>\n",
              "      <td>6.000000</td>\n",
              "      <td>6.000000</td>\n",
              "    </tr>\n",
              "    <tr>\n",
              "      <th>mean</th>\n",
              "      <td>48.683333</td>\n",
              "      <td>19176.833333</td>\n",
              "      <td>43434.166667</td>\n",
              "      <td>0.359667</td>\n",
              "    </tr>\n",
              "    <tr>\n",
              "      <th>std</th>\n",
              "      <td>28.774017</td>\n",
              "      <td>34824.268196</td>\n",
              "      <td>37277.746184</td>\n",
              "      <td>0.245577</td>\n",
              "    </tr>\n",
              "    <tr>\n",
              "      <th>min</th>\n",
              "      <td>12.000000</td>\n",
              "      <td>1234.000000</td>\n",
              "      <td>7890.000000</td>\n",
              "      <td>0.123000</td>\n",
              "    </tr>\n",
              "    <tr>\n",
              "      <th>25%</th>\n",
              "      <td>34.497500</td>\n",
              "      <td>2623.000000</td>\n",
              "      <td>12345.000000</td>\n",
              "      <td>0.179250</td>\n",
              "    </tr>\n",
              "    <tr>\n",
              "      <th>50%</th>\n",
              "      <td>40.000000</td>\n",
              "      <td>4668.000000</td>\n",
              "      <td>35117.500000</td>\n",
              "      <td>0.345000</td>\n",
              "    </tr>\n",
              "    <tr>\n",
              "      <th>75%</th>\n",
              "      <td>69.750000</td>\n",
              "      <td>10728.500000</td>\n",
              "      <td>73648.250000</td>\n",
              "      <td>0.410250</td>\n",
              "    </tr>\n",
              "    <tr>\n",
              "      <th>max</th>\n",
              "      <td>87.770000</td>\n",
              "      <td>89801.000000</td>\n",
              "      <td>91234.000000</td>\n",
              "      <td>0.789000</td>\n",
              "    </tr>\n",
              "  </tbody>\n",
              "</table>\n",
              "</div>"
            ],
            "text/plain": [
              "       Population           GDP  Surface Area       HDI\n",
              "count    6.000000      6.000000      6.000000  6.000000\n",
              "mean    48.683333  19176.833333  43434.166667  0.359667\n",
              "std     28.774017  34824.268196  37277.746184  0.245577\n",
              "min     12.000000   1234.000000   7890.000000  0.123000\n",
              "25%     34.497500   2623.000000  12345.000000  0.179250\n",
              "50%     40.000000   4668.000000  35117.500000  0.345000\n",
              "75%     69.750000  10728.500000  73648.250000  0.410250\n",
              "max     87.770000  89801.000000  91234.000000  0.789000"
            ]
          },
          "metadata": {},
          "execution_count": 43
        }
      ]
    },
    {
      "cell_type": "code",
      "metadata": {
        "colab": {
          "base_uri": "https://localhost:8080/"
        },
        "id": "ohOvxKtFhf6l",
        "outputId": "790517a5-a0ba-4ec0-fce3-106c16f5a33d"
      },
      "source": [
        "df.dtypes"
      ],
      "execution_count": null,
      "outputs": [
        {
          "output_type": "execute_result",
          "data": {
            "text/plain": [
              "Population      float64\n",
              "GDP               int64\n",
              "Surface Area      int64\n",
              "HDI             float64\n",
              "Continent        object\n",
              "dtype: object"
            ]
          },
          "metadata": {},
          "execution_count": 44
        }
      ]
    },
    {
      "cell_type": "code",
      "metadata": {
        "colab": {
          "base_uri": "https://localhost:8080/"
        },
        "id": "RbiiPZ-rhmmG",
        "outputId": "236782bb-e151-4013-f834-9152f17fc51a"
      },
      "source": [
        "df.dtypes.value_counts()"
      ],
      "execution_count": null,
      "outputs": [
        {
          "output_type": "execute_result",
          "data": {
            "text/plain": [
              "float64    2\n",
              "int64      2\n",
              "object     1\n",
              "dtype: int64"
            ]
          },
          "metadata": {},
          "execution_count": 45
        }
      ]
    },
    {
      "cell_type": "markdown",
      "metadata": {
        "id": "2bRjbhcSjUI_"
      },
      "source": [
        "# **Indexing Selection And Slicing**"
      ]
    },
    {
      "cell_type": "code",
      "metadata": {
        "colab": {
          "base_uri": "https://localhost:8080/"
        },
        "id": "nlxN4bWcjcwP",
        "outputId": "dfce5e1a-d16f-4521-8418-bf6750df6ce1"
      },
      "source": [
        "df['Population']"
      ],
      "execution_count": null,
      "outputs": [
        {
          "output_type": "execute_result",
          "data": {
            "text/plain": [
              "Canada     35.00\n",
              "Germany    45.00\n",
              "Italy      12.00\n",
              "Japan      34.33\n",
              "China      78.00\n",
              "UK         87.77\n",
              "Name: Population, dtype: float64"
            ]
          },
          "metadata": {},
          "execution_count": 46
        }
      ]
    },
    {
      "cell_type": "code",
      "metadata": {
        "colab": {
          "base_uri": "https://localhost:8080/",
          "height": 230
        },
        "id": "EWSFdtJljlQB",
        "outputId": "6291e10e-337b-4b82-fc55-42d3d8e15641"
      },
      "source": [
        "df['Population'].to_frame()"
      ],
      "execution_count": null,
      "outputs": [
        {
          "output_type": "execute_result",
          "data": {
            "text/html": [
              "<div>\n",
              "<style scoped>\n",
              "    .dataframe tbody tr th:only-of-type {\n",
              "        vertical-align: middle;\n",
              "    }\n",
              "\n",
              "    .dataframe tbody tr th {\n",
              "        vertical-align: top;\n",
              "    }\n",
              "\n",
              "    .dataframe thead th {\n",
              "        text-align: right;\n",
              "    }\n",
              "</style>\n",
              "<table border=\"1\" class=\"dataframe\">\n",
              "  <thead>\n",
              "    <tr style=\"text-align: right;\">\n",
              "      <th></th>\n",
              "      <th>Population</th>\n",
              "    </tr>\n",
              "  </thead>\n",
              "  <tbody>\n",
              "    <tr>\n",
              "      <th>Canada</th>\n",
              "      <td>35.00</td>\n",
              "    </tr>\n",
              "    <tr>\n",
              "      <th>Germany</th>\n",
              "      <td>45.00</td>\n",
              "    </tr>\n",
              "    <tr>\n",
              "      <th>Italy</th>\n",
              "      <td>12.00</td>\n",
              "    </tr>\n",
              "    <tr>\n",
              "      <th>Japan</th>\n",
              "      <td>34.33</td>\n",
              "    </tr>\n",
              "    <tr>\n",
              "      <th>China</th>\n",
              "      <td>78.00</td>\n",
              "    </tr>\n",
              "    <tr>\n",
              "      <th>UK</th>\n",
              "      <td>87.77</td>\n",
              "    </tr>\n",
              "  </tbody>\n",
              "</table>\n",
              "</div>"
            ],
            "text/plain": [
              "         Population\n",
              "Canada        35.00\n",
              "Germany       45.00\n",
              "Italy         12.00\n",
              "Japan         34.33\n",
              "China         78.00\n",
              "UK            87.77"
            ]
          },
          "metadata": {},
          "execution_count": 47
        }
      ]
    },
    {
      "cell_type": "code",
      "metadata": {
        "colab": {
          "base_uri": "https://localhost:8080/",
          "height": 230
        },
        "id": "bYgKnLX-jynw",
        "outputId": "1f965fc1-a254-4773-a0d7-e2ff13599d92"
      },
      "source": [
        "df[['Population', 'GDP']]"
      ],
      "execution_count": null,
      "outputs": [
        {
          "output_type": "execute_result",
          "data": {
            "text/html": [
              "<div>\n",
              "<style scoped>\n",
              "    .dataframe tbody tr th:only-of-type {\n",
              "        vertical-align: middle;\n",
              "    }\n",
              "\n",
              "    .dataframe tbody tr th {\n",
              "        vertical-align: top;\n",
              "    }\n",
              "\n",
              "    .dataframe thead th {\n",
              "        text-align: right;\n",
              "    }\n",
              "</style>\n",
              "<table border=\"1\" class=\"dataframe\">\n",
              "  <thead>\n",
              "    <tr style=\"text-align: right;\">\n",
              "      <th></th>\n",
              "      <th>Population</th>\n",
              "      <th>GDP</th>\n",
              "    </tr>\n",
              "  </thead>\n",
              "  <tbody>\n",
              "    <tr>\n",
              "      <th>Canada</th>\n",
              "      <td>35.00</td>\n",
              "      <td>1234</td>\n",
              "    </tr>\n",
              "    <tr>\n",
              "      <th>Germany</th>\n",
              "      <td>45.00</td>\n",
              "      <td>3457</td>\n",
              "    </tr>\n",
              "    <tr>\n",
              "      <th>Italy</th>\n",
              "      <td>12.00</td>\n",
              "      <td>89801</td>\n",
              "    </tr>\n",
              "    <tr>\n",
              "      <th>Japan</th>\n",
              "      <td>34.33</td>\n",
              "      <td>2345</td>\n",
              "    </tr>\n",
              "    <tr>\n",
              "      <th>China</th>\n",
              "      <td>78.00</td>\n",
              "      <td>5879</td>\n",
              "    </tr>\n",
              "    <tr>\n",
              "      <th>UK</th>\n",
              "      <td>87.77</td>\n",
              "      <td>12345</td>\n",
              "    </tr>\n",
              "  </tbody>\n",
              "</table>\n",
              "</div>"
            ],
            "text/plain": [
              "         Population    GDP\n",
              "Canada        35.00   1234\n",
              "Germany       45.00   3457\n",
              "Italy         12.00  89801\n",
              "Japan         34.33   2345\n",
              "China         78.00   5879\n",
              "UK            87.77  12345"
            ]
          },
          "metadata": {},
          "execution_count": 48
        }
      ]
    },
    {
      "cell_type": "code",
      "metadata": {
        "colab": {
          "base_uri": "https://localhost:8080/",
          "height": 108
        },
        "id": "AgDgSI5Oj6e0",
        "outputId": "cc8b94de-3e67-4fba-e9a1-f580334d97fc"
      },
      "source": [
        "df[1:3]"
      ],
      "execution_count": null,
      "outputs": [
        {
          "output_type": "execute_result",
          "data": {
            "text/html": [
              "<div>\n",
              "<style scoped>\n",
              "    .dataframe tbody tr th:only-of-type {\n",
              "        vertical-align: middle;\n",
              "    }\n",
              "\n",
              "    .dataframe tbody tr th {\n",
              "        vertical-align: top;\n",
              "    }\n",
              "\n",
              "    .dataframe thead th {\n",
              "        text-align: right;\n",
              "    }\n",
              "</style>\n",
              "<table border=\"1\" class=\"dataframe\">\n",
              "  <thead>\n",
              "    <tr style=\"text-align: right;\">\n",
              "      <th></th>\n",
              "      <th>Population</th>\n",
              "      <th>GDP</th>\n",
              "      <th>Surface Area</th>\n",
              "      <th>HDI</th>\n",
              "      <th>Continent</th>\n",
              "    </tr>\n",
              "  </thead>\n",
              "  <tbody>\n",
              "    <tr>\n",
              "      <th>Germany</th>\n",
              "      <td>45.0</td>\n",
              "      <td>3457</td>\n",
              "      <td>7890</td>\n",
              "      <td>0.345</td>\n",
              "      <td>Europe</td>\n",
              "    </tr>\n",
              "    <tr>\n",
              "      <th>Italy</th>\n",
              "      <td>12.0</td>\n",
              "      <td>89801</td>\n",
              "      <td>91234</td>\n",
              "      <td>0.789</td>\n",
              "      <td>Africa</td>\n",
              "    </tr>\n",
              "  </tbody>\n",
              "</table>\n",
              "</div>"
            ],
            "text/plain": [
              "         Population    GDP  Surface Area    HDI Continent\n",
              "Germany        45.0   3457          7890  0.345    Europe\n",
              "Italy          12.0  89801         91234  0.789    Africa"
            ]
          },
          "metadata": {},
          "execution_count": 49
        }
      ]
    },
    {
      "cell_type": "code",
      "metadata": {
        "colab": {
          "base_uri": "https://localhost:8080/"
        },
        "id": "wyf9Q7PIlP6_",
        "outputId": "9a5f20a8-6bc2-4278-f018-22a8de5ac0de"
      },
      "source": [
        "df.loc['Canada']"
      ],
      "execution_count": null,
      "outputs": [
        {
          "output_type": "execute_result",
          "data": {
            "text/plain": [
              "Population         35\n",
              "GDP              1234\n",
              "Surface Area    12345\n",
              "HDI             0.123\n",
              "Continent        Asia\n",
              "Name: Canada, dtype: object"
            ]
          },
          "metadata": {},
          "execution_count": 50
        }
      ]
    },
    {
      "cell_type": "code",
      "metadata": {
        "colab": {
          "base_uri": "https://localhost:8080/"
        },
        "id": "PlSr6on1lUY3",
        "outputId": "a57f270c-4e30-4660-81aa-0ba2bcd699b1"
      },
      "source": [
        "df.iloc[-1]"
      ],
      "execution_count": null,
      "outputs": [
        {
          "output_type": "execute_result",
          "data": {
            "text/plain": [
              "Population          87.77\n",
              "GDP                 12345\n",
              "Surface Area        78901\n",
              "HDI                 0.432\n",
              "Continent       Australia\n",
              "Name: UK, dtype: object"
            ]
          },
          "metadata": {},
          "execution_count": 51
        }
      ]
    },
    {
      "cell_type": "code",
      "metadata": {
        "colab": {
          "base_uri": "https://localhost:8080/"
        },
        "id": "ItJ2OcHQmqCX",
        "outputId": "f173ad32-bf1b-464b-baac-1752675e2ff9"
      },
      "source": [
        "df.loc['Canada' : 'Italy', 'Population']"
      ],
      "execution_count": null,
      "outputs": [
        {
          "output_type": "execute_result",
          "data": {
            "text/plain": [
              "Canada     35.0\n",
              "Germany    45.0\n",
              "Italy      12.0\n",
              "Name: Population, dtype: float64"
            ]
          },
          "metadata": {},
          "execution_count": 52
        }
      ]
    },
    {
      "cell_type": "code",
      "metadata": {
        "colab": {
          "base_uri": "https://localhost:8080/"
        },
        "id": "vmdGKt_On-Va",
        "outputId": "bfe2544b-6139-499d-f3f0-4071b33461e4"
      },
      "source": [
        "df.iloc[1:3,3]"
      ],
      "execution_count": null,
      "outputs": [
        {
          "output_type": "execute_result",
          "data": {
            "text/plain": [
              "Germany    0.345\n",
              "Italy      0.789\n",
              "Name: HDI, dtype: float64"
            ]
          },
          "metadata": {},
          "execution_count": 53
        }
      ]
    },
    {
      "cell_type": "code",
      "metadata": {
        "colab": {
          "base_uri": "https://localhost:8080/",
          "height": 108
        },
        "id": "h9aNrwy3wFCn",
        "outputId": "a0b6a44e-9c7a-413b-d42c-4d08507fe4ea"
      },
      "source": [
        "df.iloc[1:3,0:3]"
      ],
      "execution_count": null,
      "outputs": [
        {
          "output_type": "execute_result",
          "data": {
            "text/html": [
              "<div>\n",
              "<style scoped>\n",
              "    .dataframe tbody tr th:only-of-type {\n",
              "        vertical-align: middle;\n",
              "    }\n",
              "\n",
              "    .dataframe tbody tr th {\n",
              "        vertical-align: top;\n",
              "    }\n",
              "\n",
              "    .dataframe thead th {\n",
              "        text-align: right;\n",
              "    }\n",
              "</style>\n",
              "<table border=\"1\" class=\"dataframe\">\n",
              "  <thead>\n",
              "    <tr style=\"text-align: right;\">\n",
              "      <th></th>\n",
              "      <th>Population</th>\n",
              "      <th>GDP</th>\n",
              "      <th>Surface Area</th>\n",
              "    </tr>\n",
              "  </thead>\n",
              "  <tbody>\n",
              "    <tr>\n",
              "      <th>Germany</th>\n",
              "      <td>45.0</td>\n",
              "      <td>3457</td>\n",
              "      <td>7890</td>\n",
              "    </tr>\n",
              "    <tr>\n",
              "      <th>Italy</th>\n",
              "      <td>12.0</td>\n",
              "      <td>89801</td>\n",
              "      <td>91234</td>\n",
              "    </tr>\n",
              "  </tbody>\n",
              "</table>\n",
              "</div>"
            ],
            "text/plain": [
              "         Population    GDP  Surface Area\n",
              "Germany        45.0   3457          7890\n",
              "Italy          12.0  89801         91234"
            ]
          },
          "metadata": {},
          "execution_count": 54
        }
      ]
    },
    {
      "cell_type": "markdown",
      "metadata": {
        "id": "jOJdnjDz1K96"
      },
      "source": [
        "# **Conditional Selection**"
      ]
    },
    {
      "cell_type": "code",
      "metadata": {
        "colab": {
          "base_uri": "https://localhost:8080/",
          "height": 230
        },
        "id": "HWrwTwnO1QdK",
        "outputId": "a04e519b-3c33-423f-ba06-130e57871eb2"
      },
      "source": [
        "df"
      ],
      "execution_count": null,
      "outputs": [
        {
          "output_type": "execute_result",
          "data": {
            "text/html": [
              "<div>\n",
              "<style scoped>\n",
              "    .dataframe tbody tr th:only-of-type {\n",
              "        vertical-align: middle;\n",
              "    }\n",
              "\n",
              "    .dataframe tbody tr th {\n",
              "        vertical-align: top;\n",
              "    }\n",
              "\n",
              "    .dataframe thead th {\n",
              "        text-align: right;\n",
              "    }\n",
              "</style>\n",
              "<table border=\"1\" class=\"dataframe\">\n",
              "  <thead>\n",
              "    <tr style=\"text-align: right;\">\n",
              "      <th></th>\n",
              "      <th>Population</th>\n",
              "      <th>GDP</th>\n",
              "      <th>Surface Area</th>\n",
              "      <th>HDI</th>\n",
              "      <th>Continent</th>\n",
              "    </tr>\n",
              "  </thead>\n",
              "  <tbody>\n",
              "    <tr>\n",
              "      <th>Canada</th>\n",
              "      <td>35.00</td>\n",
              "      <td>1234</td>\n",
              "      <td>12345</td>\n",
              "      <td>0.123</td>\n",
              "      <td>Asia</td>\n",
              "    </tr>\n",
              "    <tr>\n",
              "      <th>Germany</th>\n",
              "      <td>45.00</td>\n",
              "      <td>3457</td>\n",
              "      <td>7890</td>\n",
              "      <td>0.345</td>\n",
              "      <td>Europe</td>\n",
              "    </tr>\n",
              "    <tr>\n",
              "      <th>Italy</th>\n",
              "      <td>12.00</td>\n",
              "      <td>89801</td>\n",
              "      <td>91234</td>\n",
              "      <td>0.789</td>\n",
              "      <td>Africa</td>\n",
              "    </tr>\n",
              "    <tr>\n",
              "      <th>Japan</th>\n",
              "      <td>34.33</td>\n",
              "      <td>2345</td>\n",
              "      <td>57890</td>\n",
              "      <td>0.124</td>\n",
              "      <td>America</td>\n",
              "    </tr>\n",
              "    <tr>\n",
              "      <th>China</th>\n",
              "      <td>78.00</td>\n",
              "      <td>5879</td>\n",
              "      <td>12345</td>\n",
              "      <td>0.345</td>\n",
              "      <td>Asia</td>\n",
              "    </tr>\n",
              "    <tr>\n",
              "      <th>UK</th>\n",
              "      <td>87.77</td>\n",
              "      <td>12345</td>\n",
              "      <td>78901</td>\n",
              "      <td>0.432</td>\n",
              "      <td>Australia</td>\n",
              "    </tr>\n",
              "  </tbody>\n",
              "</table>\n",
              "</div>"
            ],
            "text/plain": [
              "         Population    GDP  Surface Area    HDI  Continent\n",
              "Canada        35.00   1234         12345  0.123       Asia\n",
              "Germany       45.00   3457          7890  0.345     Europe\n",
              "Italy         12.00  89801         91234  0.789     Africa\n",
              "Japan         34.33   2345         57890  0.124    America\n",
              "China         78.00   5879         12345  0.345       Asia\n",
              "UK            87.77  12345         78901  0.432  Australia"
            ]
          },
          "metadata": {},
          "execution_count": 55
        }
      ]
    },
    {
      "cell_type": "code",
      "metadata": {
        "colab": {
          "base_uri": "https://localhost:8080/"
        },
        "id": "03_Bvs1K1bgQ",
        "outputId": "1d453e03-3739-482b-fc12-0b4c72abc168"
      },
      "source": [
        "df['Population']"
      ],
      "execution_count": null,
      "outputs": [
        {
          "output_type": "execute_result",
          "data": {
            "text/plain": [
              "Canada     35.00\n",
              "Germany    45.00\n",
              "Italy      12.00\n",
              "Japan      34.33\n",
              "China      78.00\n",
              "UK         87.77\n",
              "Name: Population, dtype: float64"
            ]
          },
          "metadata": {},
          "execution_count": 56
        }
      ]
    },
    {
      "cell_type": "code",
      "metadata": {
        "colab": {
          "base_uri": "https://localhost:8080/"
        },
        "id": "2a8WI0HI1hY4",
        "outputId": "7cafa374-dfee-4f35-c26e-700e7fa46160"
      },
      "source": [
        "df['Population'] > 70"
      ],
      "execution_count": null,
      "outputs": [
        {
          "output_type": "execute_result",
          "data": {
            "text/plain": [
              "Canada     False\n",
              "Germany    False\n",
              "Italy      False\n",
              "Japan      False\n",
              "China       True\n",
              "UK          True\n",
              "Name: Population, dtype: bool"
            ]
          },
          "metadata": {},
          "execution_count": 57
        }
      ]
    },
    {
      "cell_type": "code",
      "metadata": {
        "colab": {
          "base_uri": "https://localhost:8080/",
          "height": 108
        },
        "id": "QKBGB3D-1zhn",
        "outputId": "35101ef4-3ca2-498d-a82d-003573cbe942"
      },
      "source": [
        "df.loc[df['Population'] > 70]"
      ],
      "execution_count": null,
      "outputs": [
        {
          "output_type": "execute_result",
          "data": {
            "text/html": [
              "<div>\n",
              "<style scoped>\n",
              "    .dataframe tbody tr th:only-of-type {\n",
              "        vertical-align: middle;\n",
              "    }\n",
              "\n",
              "    .dataframe tbody tr th {\n",
              "        vertical-align: top;\n",
              "    }\n",
              "\n",
              "    .dataframe thead th {\n",
              "        text-align: right;\n",
              "    }\n",
              "</style>\n",
              "<table border=\"1\" class=\"dataframe\">\n",
              "  <thead>\n",
              "    <tr style=\"text-align: right;\">\n",
              "      <th></th>\n",
              "      <th>Population</th>\n",
              "      <th>GDP</th>\n",
              "      <th>Surface Area</th>\n",
              "      <th>HDI</th>\n",
              "      <th>Continent</th>\n",
              "    </tr>\n",
              "  </thead>\n",
              "  <tbody>\n",
              "    <tr>\n",
              "      <th>China</th>\n",
              "      <td>78.00</td>\n",
              "      <td>5879</td>\n",
              "      <td>12345</td>\n",
              "      <td>0.345</td>\n",
              "      <td>Asia</td>\n",
              "    </tr>\n",
              "    <tr>\n",
              "      <th>UK</th>\n",
              "      <td>87.77</td>\n",
              "      <td>12345</td>\n",
              "      <td>78901</td>\n",
              "      <td>0.432</td>\n",
              "      <td>Australia</td>\n",
              "    </tr>\n",
              "  </tbody>\n",
              "</table>\n",
              "</div>"
            ],
            "text/plain": [
              "       Population    GDP  Surface Area    HDI  Continent\n",
              "China       78.00   5879         12345  0.345       Asia\n",
              "UK          87.77  12345         78901  0.432  Australia"
            ]
          },
          "metadata": {},
          "execution_count": 58
        }
      ]
    },
    {
      "cell_type": "code",
      "metadata": {
        "colab": {
          "base_uri": "https://localhost:8080/"
        },
        "id": "Ld8pMosW7vze",
        "outputId": "4d1933a7-3b14-483a-df93-2532c41e64f9"
      },
      "source": [
        "df.loc[df['Population'] > 70, 'Population']"
      ],
      "execution_count": null,
      "outputs": [
        {
          "output_type": "execute_result",
          "data": {
            "text/plain": [
              "China    78.00\n",
              "UK       87.77\n",
              "Name: Population, dtype: float64"
            ]
          },
          "metadata": {},
          "execution_count": 59
        }
      ]
    },
    {
      "cell_type": "code",
      "metadata": {
        "colab": {
          "base_uri": "https://localhost:8080/",
          "height": 230
        },
        "id": "uiK8Sv-g8UNv",
        "outputId": "e2365c0c-6e0c-48d7-b3ce-9154de2e8925"
      },
      "source": [
        "df.drop(columns=['Population', 'HDI'])"
      ],
      "execution_count": null,
      "outputs": [
        {
          "output_type": "execute_result",
          "data": {
            "text/html": [
              "<div>\n",
              "<style scoped>\n",
              "    .dataframe tbody tr th:only-of-type {\n",
              "        vertical-align: middle;\n",
              "    }\n",
              "\n",
              "    .dataframe tbody tr th {\n",
              "        vertical-align: top;\n",
              "    }\n",
              "\n",
              "    .dataframe thead th {\n",
              "        text-align: right;\n",
              "    }\n",
              "</style>\n",
              "<table border=\"1\" class=\"dataframe\">\n",
              "  <thead>\n",
              "    <tr style=\"text-align: right;\">\n",
              "      <th></th>\n",
              "      <th>GDP</th>\n",
              "      <th>Surface Area</th>\n",
              "      <th>Continent</th>\n",
              "    </tr>\n",
              "  </thead>\n",
              "  <tbody>\n",
              "    <tr>\n",
              "      <th>Canada</th>\n",
              "      <td>1234</td>\n",
              "      <td>12345</td>\n",
              "      <td>Asia</td>\n",
              "    </tr>\n",
              "    <tr>\n",
              "      <th>Germany</th>\n",
              "      <td>3457</td>\n",
              "      <td>7890</td>\n",
              "      <td>Europe</td>\n",
              "    </tr>\n",
              "    <tr>\n",
              "      <th>Italy</th>\n",
              "      <td>89801</td>\n",
              "      <td>91234</td>\n",
              "      <td>Africa</td>\n",
              "    </tr>\n",
              "    <tr>\n",
              "      <th>Japan</th>\n",
              "      <td>2345</td>\n",
              "      <td>57890</td>\n",
              "      <td>America</td>\n",
              "    </tr>\n",
              "    <tr>\n",
              "      <th>China</th>\n",
              "      <td>5879</td>\n",
              "      <td>12345</td>\n",
              "      <td>Asia</td>\n",
              "    </tr>\n",
              "    <tr>\n",
              "      <th>UK</th>\n",
              "      <td>12345</td>\n",
              "      <td>78901</td>\n",
              "      <td>Australia</td>\n",
              "    </tr>\n",
              "  </tbody>\n",
              "</table>\n",
              "</div>"
            ],
            "text/plain": [
              "           GDP  Surface Area  Continent\n",
              "Canada    1234         12345       Asia\n",
              "Germany   3457          7890     Europe\n",
              "Italy    89801         91234     Africa\n",
              "Japan     2345         57890    America\n",
              "China     5879         12345       Asia\n",
              "UK       12345         78901  Australia"
            ]
          },
          "metadata": {},
          "execution_count": 60
        }
      ]
    },
    {
      "cell_type": "code",
      "metadata": {
        "colab": {
          "base_uri": "https://localhost:8080/",
          "height": 230
        },
        "id": "6S1pHSQz9iFt",
        "outputId": "7f322d18-d57b-49e3-c79f-5ffe8ff9bbe0"
      },
      "source": [
        "df[['Population', 'GDP']] "
      ],
      "execution_count": null,
      "outputs": [
        {
          "output_type": "execute_result",
          "data": {
            "text/html": [
              "<div>\n",
              "<style scoped>\n",
              "    .dataframe tbody tr th:only-of-type {\n",
              "        vertical-align: middle;\n",
              "    }\n",
              "\n",
              "    .dataframe tbody tr th {\n",
              "        vertical-align: top;\n",
              "    }\n",
              "\n",
              "    .dataframe thead th {\n",
              "        text-align: right;\n",
              "    }\n",
              "</style>\n",
              "<table border=\"1\" class=\"dataframe\">\n",
              "  <thead>\n",
              "    <tr style=\"text-align: right;\">\n",
              "      <th></th>\n",
              "      <th>Population</th>\n",
              "      <th>GDP</th>\n",
              "    </tr>\n",
              "  </thead>\n",
              "  <tbody>\n",
              "    <tr>\n",
              "      <th>Canada</th>\n",
              "      <td>35.00</td>\n",
              "      <td>1234</td>\n",
              "    </tr>\n",
              "    <tr>\n",
              "      <th>Germany</th>\n",
              "      <td>45.00</td>\n",
              "      <td>3457</td>\n",
              "    </tr>\n",
              "    <tr>\n",
              "      <th>Italy</th>\n",
              "      <td>12.00</td>\n",
              "      <td>89801</td>\n",
              "    </tr>\n",
              "    <tr>\n",
              "      <th>Japan</th>\n",
              "      <td>34.33</td>\n",
              "      <td>2345</td>\n",
              "    </tr>\n",
              "    <tr>\n",
              "      <th>China</th>\n",
              "      <td>78.00</td>\n",
              "      <td>5879</td>\n",
              "    </tr>\n",
              "    <tr>\n",
              "      <th>UK</th>\n",
              "      <td>87.77</td>\n",
              "      <td>12345</td>\n",
              "    </tr>\n",
              "  </tbody>\n",
              "</table>\n",
              "</div>"
            ],
            "text/plain": [
              "         Population    GDP\n",
              "Canada        35.00   1234\n",
              "Germany       45.00   3457\n",
              "Italy         12.00  89801\n",
              "Japan         34.33   2345\n",
              "China         78.00   5879\n",
              "UK            87.77  12345"
            ]
          },
          "metadata": {},
          "execution_count": 61
        }
      ]
    },
    {
      "cell_type": "code",
      "metadata": {
        "colab": {
          "base_uri": "https://localhost:8080/",
          "height": 230
        },
        "id": "oFKyzrkc91qR",
        "outputId": "b3bfb96c-8a68-4202-ef2b-c7c357094d93"
      },
      "source": [
        "df[['Population', 'GDP']] /100"
      ],
      "execution_count": null,
      "outputs": [
        {
          "output_type": "execute_result",
          "data": {
            "text/html": [
              "<div>\n",
              "<style scoped>\n",
              "    .dataframe tbody tr th:only-of-type {\n",
              "        vertical-align: middle;\n",
              "    }\n",
              "\n",
              "    .dataframe tbody tr th {\n",
              "        vertical-align: top;\n",
              "    }\n",
              "\n",
              "    .dataframe thead th {\n",
              "        text-align: right;\n",
              "    }\n",
              "</style>\n",
              "<table border=\"1\" class=\"dataframe\">\n",
              "  <thead>\n",
              "    <tr style=\"text-align: right;\">\n",
              "      <th></th>\n",
              "      <th>Population</th>\n",
              "      <th>GDP</th>\n",
              "    </tr>\n",
              "  </thead>\n",
              "  <tbody>\n",
              "    <tr>\n",
              "      <th>Canada</th>\n",
              "      <td>0.3500</td>\n",
              "      <td>12.34</td>\n",
              "    </tr>\n",
              "    <tr>\n",
              "      <th>Germany</th>\n",
              "      <td>0.4500</td>\n",
              "      <td>34.57</td>\n",
              "    </tr>\n",
              "    <tr>\n",
              "      <th>Italy</th>\n",
              "      <td>0.1200</td>\n",
              "      <td>898.01</td>\n",
              "    </tr>\n",
              "    <tr>\n",
              "      <th>Japan</th>\n",
              "      <td>0.3433</td>\n",
              "      <td>23.45</td>\n",
              "    </tr>\n",
              "    <tr>\n",
              "      <th>China</th>\n",
              "      <td>0.7800</td>\n",
              "      <td>58.79</td>\n",
              "    </tr>\n",
              "    <tr>\n",
              "      <th>UK</th>\n",
              "      <td>0.8777</td>\n",
              "      <td>123.45</td>\n",
              "    </tr>\n",
              "  </tbody>\n",
              "</table>\n",
              "</div>"
            ],
            "text/plain": [
              "         Population     GDP\n",
              "Canada       0.3500   12.34\n",
              "Germany      0.4500   34.57\n",
              "Italy        0.1200  898.01\n",
              "Japan        0.3433   23.45\n",
              "China        0.7800   58.79\n",
              "UK           0.8777  123.45"
            ]
          },
          "metadata": {},
          "execution_count": 62
        }
      ]
    },
    {
      "cell_type": "code",
      "metadata": {
        "id": "usyMTt4Q97r_"
      },
      "source": [
        "crisis = pd.Series([-1_000_000, -0.1], index=['GDP', 'HDI'])"
      ],
      "execution_count": null,
      "outputs": []
    },
    {
      "cell_type": "code",
      "metadata": {
        "colab": {
          "base_uri": "https://localhost:8080/"
        },
        "id": "wmaNYlXT-gTh",
        "outputId": "17e526a9-6fb5-449d-90b8-95b96f588436"
      },
      "source": [
        "crisis"
      ],
      "execution_count": null,
      "outputs": [
        {
          "output_type": "execute_result",
          "data": {
            "text/plain": [
              "GDP   -1000000.0\n",
              "HDI         -0.1\n",
              "dtype: float64"
            ]
          },
          "metadata": {},
          "execution_count": 64
        }
      ]
    },
    {
      "cell_type": "code",
      "metadata": {
        "colab": {
          "base_uri": "https://localhost:8080/",
          "height": 230
        },
        "id": "FeqIOrVq-k3H",
        "outputId": "667af16c-f23c-4f46-909b-bec54275a296"
      },
      "source": [
        "df"
      ],
      "execution_count": null,
      "outputs": [
        {
          "output_type": "execute_result",
          "data": {
            "text/html": [
              "<div>\n",
              "<style scoped>\n",
              "    .dataframe tbody tr th:only-of-type {\n",
              "        vertical-align: middle;\n",
              "    }\n",
              "\n",
              "    .dataframe tbody tr th {\n",
              "        vertical-align: top;\n",
              "    }\n",
              "\n",
              "    .dataframe thead th {\n",
              "        text-align: right;\n",
              "    }\n",
              "</style>\n",
              "<table border=\"1\" class=\"dataframe\">\n",
              "  <thead>\n",
              "    <tr style=\"text-align: right;\">\n",
              "      <th></th>\n",
              "      <th>Population</th>\n",
              "      <th>GDP</th>\n",
              "      <th>Surface Area</th>\n",
              "      <th>HDI</th>\n",
              "      <th>Continent</th>\n",
              "    </tr>\n",
              "  </thead>\n",
              "  <tbody>\n",
              "    <tr>\n",
              "      <th>Canada</th>\n",
              "      <td>35.00</td>\n",
              "      <td>1234</td>\n",
              "      <td>12345</td>\n",
              "      <td>0.123</td>\n",
              "      <td>Asia</td>\n",
              "    </tr>\n",
              "    <tr>\n",
              "      <th>Germany</th>\n",
              "      <td>45.00</td>\n",
              "      <td>3457</td>\n",
              "      <td>7890</td>\n",
              "      <td>0.345</td>\n",
              "      <td>Europe</td>\n",
              "    </tr>\n",
              "    <tr>\n",
              "      <th>Italy</th>\n",
              "      <td>12.00</td>\n",
              "      <td>89801</td>\n",
              "      <td>91234</td>\n",
              "      <td>0.789</td>\n",
              "      <td>Africa</td>\n",
              "    </tr>\n",
              "    <tr>\n",
              "      <th>Japan</th>\n",
              "      <td>34.33</td>\n",
              "      <td>2345</td>\n",
              "      <td>57890</td>\n",
              "      <td>0.124</td>\n",
              "      <td>America</td>\n",
              "    </tr>\n",
              "    <tr>\n",
              "      <th>China</th>\n",
              "      <td>78.00</td>\n",
              "      <td>5879</td>\n",
              "      <td>12345</td>\n",
              "      <td>0.345</td>\n",
              "      <td>Asia</td>\n",
              "    </tr>\n",
              "    <tr>\n",
              "      <th>UK</th>\n",
              "      <td>87.77</td>\n",
              "      <td>12345</td>\n",
              "      <td>78901</td>\n",
              "      <td>0.432</td>\n",
              "      <td>Australia</td>\n",
              "    </tr>\n",
              "  </tbody>\n",
              "</table>\n",
              "</div>"
            ],
            "text/plain": [
              "         Population    GDP  Surface Area    HDI  Continent\n",
              "Canada        35.00   1234         12345  0.123       Asia\n",
              "Germany       45.00   3457          7890  0.345     Europe\n",
              "Italy         12.00  89801         91234  0.789     Africa\n",
              "Japan         34.33   2345         57890  0.124    America\n",
              "China         78.00   5879         12345  0.345       Asia\n",
              "UK            87.77  12345         78901  0.432  Australia"
            ]
          },
          "metadata": {},
          "execution_count": 65
        }
      ]
    },
    {
      "cell_type": "code",
      "metadata": {
        "colab": {
          "base_uri": "https://localhost:8080/",
          "height": 230
        },
        "id": "lCY7qtlt-qmv",
        "outputId": "5270894e-5d4f-4868-c6f1-9f878e6c1e4d"
      },
      "source": [
        "df[['GDP', 'HDI']] + crisis"
      ],
      "execution_count": null,
      "outputs": [
        {
          "output_type": "execute_result",
          "data": {
            "text/html": [
              "<div>\n",
              "<style scoped>\n",
              "    .dataframe tbody tr th:only-of-type {\n",
              "        vertical-align: middle;\n",
              "    }\n",
              "\n",
              "    .dataframe tbody tr th {\n",
              "        vertical-align: top;\n",
              "    }\n",
              "\n",
              "    .dataframe thead th {\n",
              "        text-align: right;\n",
              "    }\n",
              "</style>\n",
              "<table border=\"1\" class=\"dataframe\">\n",
              "  <thead>\n",
              "    <tr style=\"text-align: right;\">\n",
              "      <th></th>\n",
              "      <th>GDP</th>\n",
              "      <th>HDI</th>\n",
              "    </tr>\n",
              "  </thead>\n",
              "  <tbody>\n",
              "    <tr>\n",
              "      <th>Canada</th>\n",
              "      <td>-998766.0</td>\n",
              "      <td>0.023</td>\n",
              "    </tr>\n",
              "    <tr>\n",
              "      <th>Germany</th>\n",
              "      <td>-996543.0</td>\n",
              "      <td>0.245</td>\n",
              "    </tr>\n",
              "    <tr>\n",
              "      <th>Italy</th>\n",
              "      <td>-910199.0</td>\n",
              "      <td>0.689</td>\n",
              "    </tr>\n",
              "    <tr>\n",
              "      <th>Japan</th>\n",
              "      <td>-997655.0</td>\n",
              "      <td>0.024</td>\n",
              "    </tr>\n",
              "    <tr>\n",
              "      <th>China</th>\n",
              "      <td>-994121.0</td>\n",
              "      <td>0.245</td>\n",
              "    </tr>\n",
              "    <tr>\n",
              "      <th>UK</th>\n",
              "      <td>-987655.0</td>\n",
              "      <td>0.332</td>\n",
              "    </tr>\n",
              "  </tbody>\n",
              "</table>\n",
              "</div>"
            ],
            "text/plain": [
              "              GDP    HDI\n",
              "Canada  -998766.0  0.023\n",
              "Germany -996543.0  0.245\n",
              "Italy   -910199.0  0.689\n",
              "Japan   -997655.0  0.024\n",
              "China   -994121.0  0.245\n",
              "UK      -987655.0  0.332"
            ]
          },
          "metadata": {},
          "execution_count": 66
        }
      ]
    },
    {
      "cell_type": "code",
      "metadata": {
        "id": "hpEQi_8sBDnP"
      },
      "source": [
        "lang = pd.Series(\n",
        "    ['Candian', 'German', 'Italian' ],\n",
        "    index = ['Germany', 'Germany', 'Italy'],\n",
        "    name='Language'\n",
        ")"
      ],
      "execution_count": null,
      "outputs": []
    },
    {
      "cell_type": "code",
      "metadata": {
        "colab": {
          "base_uri": "https://localhost:8080/",
          "height": 230
        },
        "id": "RE0mbuWPC9pI",
        "outputId": "efab2a17-befa-4094-802c-3ddca730f975"
      },
      "source": [
        "df"
      ],
      "execution_count": null,
      "outputs": [
        {
          "output_type": "execute_result",
          "data": {
            "text/html": [
              "<div>\n",
              "<style scoped>\n",
              "    .dataframe tbody tr th:only-of-type {\n",
              "        vertical-align: middle;\n",
              "    }\n",
              "\n",
              "    .dataframe tbody tr th {\n",
              "        vertical-align: top;\n",
              "    }\n",
              "\n",
              "    .dataframe thead th {\n",
              "        text-align: right;\n",
              "    }\n",
              "</style>\n",
              "<table border=\"1\" class=\"dataframe\">\n",
              "  <thead>\n",
              "    <tr style=\"text-align: right;\">\n",
              "      <th></th>\n",
              "      <th>Population</th>\n",
              "      <th>GDP</th>\n",
              "      <th>Surface Area</th>\n",
              "      <th>HDI</th>\n",
              "      <th>Continent</th>\n",
              "    </tr>\n",
              "  </thead>\n",
              "  <tbody>\n",
              "    <tr>\n",
              "      <th>Canada</th>\n",
              "      <td>35.00</td>\n",
              "      <td>1234</td>\n",
              "      <td>12345</td>\n",
              "      <td>0.123</td>\n",
              "      <td>Asia</td>\n",
              "    </tr>\n",
              "    <tr>\n",
              "      <th>Germany</th>\n",
              "      <td>45.00</td>\n",
              "      <td>3457</td>\n",
              "      <td>7890</td>\n",
              "      <td>0.345</td>\n",
              "      <td>Europe</td>\n",
              "    </tr>\n",
              "    <tr>\n",
              "      <th>Italy</th>\n",
              "      <td>12.00</td>\n",
              "      <td>89801</td>\n",
              "      <td>91234</td>\n",
              "      <td>0.789</td>\n",
              "      <td>Africa</td>\n",
              "    </tr>\n",
              "    <tr>\n",
              "      <th>Japan</th>\n",
              "      <td>34.33</td>\n",
              "      <td>2345</td>\n",
              "      <td>57890</td>\n",
              "      <td>0.124</td>\n",
              "      <td>America</td>\n",
              "    </tr>\n",
              "    <tr>\n",
              "      <th>China</th>\n",
              "      <td>78.00</td>\n",
              "      <td>5879</td>\n",
              "      <td>12345</td>\n",
              "      <td>0.345</td>\n",
              "      <td>Asia</td>\n",
              "    </tr>\n",
              "    <tr>\n",
              "      <th>UK</th>\n",
              "      <td>87.77</td>\n",
              "      <td>12345</td>\n",
              "      <td>78901</td>\n",
              "      <td>0.432</td>\n",
              "      <td>Australia</td>\n",
              "    </tr>\n",
              "  </tbody>\n",
              "</table>\n",
              "</div>"
            ],
            "text/plain": [
              "         Population    GDP  Surface Area    HDI  Continent\n",
              "Canada        35.00   1234         12345  0.123       Asia\n",
              "Germany       45.00   3457          7890  0.345     Europe\n",
              "Italy         12.00  89801         91234  0.789     Africa\n",
              "Japan         34.33   2345         57890  0.124    America\n",
              "China         78.00   5879         12345  0.345       Asia\n",
              "UK            87.77  12345         78901  0.432  Australia"
            ]
          },
          "metadata": {},
          "execution_count": 68
        }
      ]
    },
    {
      "cell_type": "code",
      "metadata": {
        "colab": {
          "base_uri": "https://localhost:8080/",
          "height": 230
        },
        "id": "NwYW7Cp_Ea_-",
        "outputId": "9cf5029a-0106-4e39-afdf-c196950e4ec3"
      },
      "source": [
        "df.rename(\n",
        "    columns = {\n",
        "        'HDI' : 'Human Development Index', \n",
        "        'API' : 'Annual popcorn Assumption',\n",
        "    }\n",
        ")"
      ],
      "execution_count": null,
      "outputs": [
        {
          "output_type": "execute_result",
          "data": {
            "text/html": [
              "<div>\n",
              "<style scoped>\n",
              "    .dataframe tbody tr th:only-of-type {\n",
              "        vertical-align: middle;\n",
              "    }\n",
              "\n",
              "    .dataframe tbody tr th {\n",
              "        vertical-align: top;\n",
              "    }\n",
              "\n",
              "    .dataframe thead th {\n",
              "        text-align: right;\n",
              "    }\n",
              "</style>\n",
              "<table border=\"1\" class=\"dataframe\">\n",
              "  <thead>\n",
              "    <tr style=\"text-align: right;\">\n",
              "      <th></th>\n",
              "      <th>Population</th>\n",
              "      <th>GDP</th>\n",
              "      <th>Surface Area</th>\n",
              "      <th>Human Development Index</th>\n",
              "      <th>Continent</th>\n",
              "    </tr>\n",
              "  </thead>\n",
              "  <tbody>\n",
              "    <tr>\n",
              "      <th>Canada</th>\n",
              "      <td>35.00</td>\n",
              "      <td>1234</td>\n",
              "      <td>12345</td>\n",
              "      <td>0.123</td>\n",
              "      <td>Asia</td>\n",
              "    </tr>\n",
              "    <tr>\n",
              "      <th>Germany</th>\n",
              "      <td>45.00</td>\n",
              "      <td>3457</td>\n",
              "      <td>7890</td>\n",
              "      <td>0.345</td>\n",
              "      <td>Europe</td>\n",
              "    </tr>\n",
              "    <tr>\n",
              "      <th>Italy</th>\n",
              "      <td>12.00</td>\n",
              "      <td>89801</td>\n",
              "      <td>91234</td>\n",
              "      <td>0.789</td>\n",
              "      <td>Africa</td>\n",
              "    </tr>\n",
              "    <tr>\n",
              "      <th>Japan</th>\n",
              "      <td>34.33</td>\n",
              "      <td>2345</td>\n",
              "      <td>57890</td>\n",
              "      <td>0.124</td>\n",
              "      <td>America</td>\n",
              "    </tr>\n",
              "    <tr>\n",
              "      <th>China</th>\n",
              "      <td>78.00</td>\n",
              "      <td>5879</td>\n",
              "      <td>12345</td>\n",
              "      <td>0.345</td>\n",
              "      <td>Asia</td>\n",
              "    </tr>\n",
              "    <tr>\n",
              "      <th>UK</th>\n",
              "      <td>87.77</td>\n",
              "      <td>12345</td>\n",
              "      <td>78901</td>\n",
              "      <td>0.432</td>\n",
              "      <td>Australia</td>\n",
              "    </tr>\n",
              "  </tbody>\n",
              "</table>\n",
              "</div>"
            ],
            "text/plain": [
              "         Population    GDP  Surface Area  Human Development Index  Continent\n",
              "Canada        35.00   1234         12345                    0.123       Asia\n",
              "Germany       45.00   3457          7890                    0.345     Europe\n",
              "Italy         12.00  89801         91234                    0.789     Africa\n",
              "Japan         34.33   2345         57890                    0.124    America\n",
              "China         78.00   5879         12345                    0.345       Asia\n",
              "UK            87.77  12345         78901                    0.432  Australia"
            ]
          },
          "metadata": {},
          "execution_count": 69
        }
      ]
    },
    {
      "cell_type": "code",
      "metadata": {
        "colab": {
          "base_uri": "https://localhost:8080/",
          "height": 230
        },
        "id": "KC9U3k_fSPeC",
        "outputId": "7d6cde26-3f76-40df-b491-7d5071f322c3"
      },
      "source": [
        "df.rename(\n",
        "    columns= {\n",
        "        'HDI':'Human Development Index',\n",
        "        'API' : 'Annual popcorn Assumption'\n",
        "    },index={\n",
        "        'USA':'United States of America',\n",
        "        'UK' : 'United Kingdom'\n",
        "    }\n",
        ")"
      ],
      "execution_count": null,
      "outputs": [
        {
          "output_type": "execute_result",
          "data": {
            "text/html": [
              "<div>\n",
              "<style scoped>\n",
              "    .dataframe tbody tr th:only-of-type {\n",
              "        vertical-align: middle;\n",
              "    }\n",
              "\n",
              "    .dataframe tbody tr th {\n",
              "        vertical-align: top;\n",
              "    }\n",
              "\n",
              "    .dataframe thead th {\n",
              "        text-align: right;\n",
              "    }\n",
              "</style>\n",
              "<table border=\"1\" class=\"dataframe\">\n",
              "  <thead>\n",
              "    <tr style=\"text-align: right;\">\n",
              "      <th></th>\n",
              "      <th>Population</th>\n",
              "      <th>GDP</th>\n",
              "      <th>Surface Area</th>\n",
              "      <th>Human Development Index</th>\n",
              "      <th>Continent</th>\n",
              "    </tr>\n",
              "  </thead>\n",
              "  <tbody>\n",
              "    <tr>\n",
              "      <th>Canada</th>\n",
              "      <td>35.00</td>\n",
              "      <td>1234</td>\n",
              "      <td>12345</td>\n",
              "      <td>0.123</td>\n",
              "      <td>Asia</td>\n",
              "    </tr>\n",
              "    <tr>\n",
              "      <th>Germany</th>\n",
              "      <td>45.00</td>\n",
              "      <td>3457</td>\n",
              "      <td>7890</td>\n",
              "      <td>0.345</td>\n",
              "      <td>Europe</td>\n",
              "    </tr>\n",
              "    <tr>\n",
              "      <th>Italy</th>\n",
              "      <td>12.00</td>\n",
              "      <td>89801</td>\n",
              "      <td>91234</td>\n",
              "      <td>0.789</td>\n",
              "      <td>Africa</td>\n",
              "    </tr>\n",
              "    <tr>\n",
              "      <th>Japan</th>\n",
              "      <td>34.33</td>\n",
              "      <td>2345</td>\n",
              "      <td>57890</td>\n",
              "      <td>0.124</td>\n",
              "      <td>America</td>\n",
              "    </tr>\n",
              "    <tr>\n",
              "      <th>China</th>\n",
              "      <td>78.00</td>\n",
              "      <td>5879</td>\n",
              "      <td>12345</td>\n",
              "      <td>0.345</td>\n",
              "      <td>Asia</td>\n",
              "    </tr>\n",
              "    <tr>\n",
              "      <th>United Kingdom</th>\n",
              "      <td>87.77</td>\n",
              "      <td>12345</td>\n",
              "      <td>78901</td>\n",
              "      <td>0.432</td>\n",
              "      <td>Australia</td>\n",
              "    </tr>\n",
              "  </tbody>\n",
              "</table>\n",
              "</div>"
            ],
            "text/plain": [
              "                Population    GDP  ...  Human Development Index  Continent\n",
              "Canada               35.00   1234  ...                    0.123       Asia\n",
              "Germany              45.00   3457  ...                    0.345     Europe\n",
              "Italy                12.00  89801  ...                    0.789     Africa\n",
              "Japan                34.33   2345  ...                    0.124    America\n",
              "China                78.00   5879  ...                    0.345       Asia\n",
              "United Kingdom       87.77  12345  ...                    0.432  Australia\n",
              "\n",
              "[6 rows x 5 columns]"
            ]
          },
          "metadata": {},
          "execution_count": 70
        }
      ]
    },
    {
      "cell_type": "code",
      "metadata": {
        "id": "P3wV-ghiWE_D"
      },
      "source": [
        "pd.read_csv?"
      ],
      "execution_count": null,
      "outputs": []
    },
    {
      "cell_type": "code",
      "metadata": {
        "id": "Uv0d32g7fvGy"
      },
      "source": [
        "#df = pd.read_csv\n",
        "#df.columns = ['TimeSpace','Price']\n",
        "#df['Timespace'] = pd.to_datetime(df['Timespace'])\n",
        "#df.set_index('Timespace', inplace=True) "
      ],
      "execution_count": null,
      "outputs": []
    }
  ]
}